{
 "cells": [
  {
   "cell_type": "code",
   "execution_count": 4,
   "id": "f50325f6",
   "metadata": {},
   "outputs": [],
   "source": [
    "\n",
    "def twoSum(nums, target):\n",
    "    # Create a dictionary to store the complement of each number\n",
    "    complement_map = {}\n",
    "\n",
    "    # Iterate through the array\n",
    "    for i, num in enumerate(nums):\n",
    "        # Check if the complement of the current number exists in the dictionary\n",
    "        complement = target - num\n",
    "        if complement in complement_map:\n",
    "            # If the complement exists, return its index and the current index\n",
    "            return [complement_map[complement], i]\n",
    "\n",
    "        # If the complement does not exist, store the current number and its index in the dictionary\n",
    "        complement_map[num] = i\n",
    "\n",
    "    # If no solution is found, return an empty list or handle the error as needed\n",
    "    return []"
   ]
  },
  {
   "cell_type": "code",
   "execution_count": null,
   "id": "f842964b",
   "metadata": {},
   "outputs": [],
   "source": []
  },
  {
   "cell_type": "code",
   "execution_count": 5,
   "id": "0efb081d",
   "metadata": {},
   "outputs": [
    {
     "name": "stdout",
     "output_type": "stream",
     "text": [
      "2\n"
     ]
    }
   ],
   "source": [
    "def removeElement(nums, val):\n",
    "    # Initialize two pointers: one for iterating through the array and another for keeping track of the position to place non-val elements\n",
    "    k = 0  # Represents the number of elements that are not equal to val\n",
    "\n",
    "    for i in range(len(nums)):\n",
    "        if nums[i] != val:\n",
    "            nums[k] = nums[i]\n",
    "            k += 1\n",
    "\n",
    "    return k\n",
    "\n",
    "# Example usage\n",
    "nums = [3, 2, 2, 3]\n",
    "val = 3\n",
    "k = removeElement(nums, val)\n",
    "print(k)  "
   ]
  },
  {
   "cell_type": "code",
   "execution_count": 6,
   "id": "18ba725b",
   "metadata": {},
   "outputs": [
    {
     "name": "stdout",
     "output_type": "stream",
     "text": [
      "2\n",
      "1\n"
     ]
    }
   ],
   "source": [
    "def searchInsert(nums, target):\n",
    "    left = 0\n",
    "    right = len(nums) - 1\n",
    "\n",
    "    while left <= right:\n",
    "        mid = left + (right - left) // 2\n",
    "\n",
    "        if nums[mid] == target:\n",
    "            return mid\n",
    "        elif nums[mid] < target:\n",
    "            left = mid + 1\n",
    "        else:\n",
    "            right = mid - 1\n",
    "\n",
    "    return left\n",
    "\n",
    "# Example usage\n",
    "nums = [1, 3, 5, 6]\n",
    "target = 5\n",
    "index = searchInsert(nums, target)\n",
    "print(index)  # Output: 2 (5 is found at index 2 in the nums array)\n",
    "\n",
    "target = 2\n",
    "index = searchInsert(nums, target)\n",
    "print(index)"
   ]
  },
  {
   "cell_type": "code",
   "execution_count": 7,
   "id": "598e1915",
   "metadata": {},
   "outputs": [
    {
     "name": "stdout",
     "output_type": "stream",
     "text": [
      "[1, 2, 4]\n"
     ]
    }
   ],
   "source": [
    "def plusOne(digits):\n",
    "    n = len(digits)\n",
    "\n",
    "    # Add 1 to the least significant digit\n",
    "    digits[n - 1] += 1\n",
    "\n",
    "    # Perform carry operation\n",
    "    carry = 0\n",
    "    for i in range(n - 1, -1, -1):\n",
    "        digits[i] += carry\n",
    "        carry = digits[i] // 10\n",
    "        digits[i] %= 10\n",
    "\n",
    "    # If there's still a carry after the loop, insert it at the beginning\n",
    "    if carry:\n",
    "        digits.insert(0, carry)\n",
    "\n",
    "    return digits\n",
    "\n",
    "# Example usage\n",
    "digits = [1, 2, 3]\n",
    "result = plusOne(digits)\n",
    "print(result) "
   ]
  },
  {
   "cell_type": "code",
   "execution_count": 8,
   "id": "5cdc2cfe",
   "metadata": {},
   "outputs": [
    {
     "name": "stdout",
     "output_type": "stream",
     "text": [
      "[1, 2, 2, 3, 5, 6]\n"
     ]
    }
   ],
   "source": [
    "def merge(nums1, m, nums2, n):\n",
    "    i = m - 1  # Pointer for nums1\n",
    "    j = n - 1  # Pointer for nums2\n",
    "    k = m + n - 1  # Pointer for merged array\n",
    "\n",
    "    while i >= 0 and j >= 0:\n",
    "        if nums1[i] >= nums2[j]:\n",
    "            nums1[k] = nums1[i]\n",
    "            i -= 1\n",
    "        else:\n",
    "            nums1[k] = nums2[j]\n",
    "            j -= 1\n",
    "        k -= 1\n",
    "\n",
    "    # If there are remaining elements in nums2, copy them to the beginning of nums1\n",
    "    while j >= 0:\n",
    "        nums1[k] = nums2[j]\n",
    "        j -= 1\n",
    "        k -= 1\n",
    "\n",
    "# Example usage\n",
    "nums1 = [1, 2, 3, 0, 0, 0]\n",
    "m = 3\n",
    "nums2 = [2, 5, 6]\n",
    "n = 3\n",
    "merge(nums1, m, nums2, n)\n",
    "print(nums1) "
   ]
  },
  {
   "cell_type": "code",
   "execution_count": 10,
   "id": "fd82a78c",
   "metadata": {},
   "outputs": [
    {
     "name": "stdout",
     "output_type": "stream",
     "text": [
      "True\n"
     ]
    }
   ],
   "source": [
    "def containsDuplicate(nums):\n",
    "    seen = set()\n",
    "    for num in nums:\n",
    "        if num in seen:\n",
    "            return True\n",
    "        seen.add(num)\n",
    "    return False\n",
    "\n",
    "# Example usage:\n",
    "nums = [1, 2, 3, 1]\n",
    "print(containsDuplicate(nums)) "
   ]
  },
  {
   "cell_type": "code",
   "execution_count": 12,
   "id": "f9fd8544",
   "metadata": {},
   "outputs": [
    {
     "name": "stdout",
     "output_type": "stream",
     "text": [
      "[1, 3, 12, 0, 0]\n"
     ]
    }
   ],
   "source": [
    "def move_zeros(nums):\n",
    "    left = right = 0\n",
    "\n",
    "    while right < len(nums):\n",
    "        if nums[right] != 0:\n",
    "            # Swap non-zero element with the element at the left pointer\n",
    "            nums[left], nums[right] = nums[right], nums[left]\n",
    "            left += 1\n",
    "        right += 1\n",
    "\n",
    "# Test the function\n",
    "nums = [0, 1, 0, 3, 12]\n",
    "move_zeros(nums)\n",
    "print(nums)"
   ]
  },
  {
   "cell_type": "code",
   "execution_count": 16,
   "id": "3cf1117c",
   "metadata": {},
   "outputs": [],
   "source": [
    "def findErrorNums(nums):\n",
    "    numSet = set()\n",
    "    duplicate = 0\n",
    "    missing = 0\n",
    "\n",
    "    for num in nums:\n",
    "        if num in numSet:\n",
    "            duplicate = num\n",
    "        numSet.add(num)\n",
    "\n",
    "    for i in range(1, len(nums) + 1):\n",
    "        if i not in numSet:\n",
    "            missing = i\n",
    "\n",
    "    return [duplicate, missing]"
   ]
  },
  {
   "cell_type": "code",
   "execution_count": 15,
   "id": "91fb7782",
   "metadata": {},
   "outputs": [
    {
     "name": "stdout",
     "output_type": "stream",
     "text": [
      " Volume in drive C is SSD-OS\n",
      " Volume Serial Number is 0A8B-F118\n",
      "\n",
      " Directory of C:\\Users\\THE ONE\n",
      "\n",
      "31-05-2023  22:58    <DIR>          .\n",
      "31-05-2023  22:58    <DIR>          ..\n",
      "24-09-2022  11:24    <DIR>          .astropy\n",
      "29-10-2022  13:35             1,704 .bash_history\n",
      "16-03-2022  15:56    <DIR>          .conda\n",
      "03-09-2022  11:31    <DIR>          .cufflinks\n",
      "15-03-2023  23:26                55 .gitconfig\n",
      "31-05-2023  22:50    <DIR>          .ipynb_checkpoints\n",
      "23-01-2022  13:57    <DIR>          .ipython\n",
      "29-01-2022  13:02    <DIR>          .jupyter\n",
      "03-06-2022  23:22    <DIR>          .matplotlib\n",
      "01-07-2022  15:05    <DIR>          .ms-ad\n",
      "03-02-2022  22:31    <DIR>          .spyder-py3\n",
      "08-03-2023  23:15    <DIR>          .vscode\n",
      "03-02-2022  13:01            15,038 21st dec 2021.ipynb\n",
      "25-03-2022  15:03             9,321 23rd dec  about fuctions.ipynb\n",
      "24-01-2021  21:16    <DIR>          3D Objects\n",
      "17-02-2022  07:48             4,209 8th jan args  lamda.ipynb\n",
      "27-12-2022  23:35            35,304 all2.xlsx\n",
      "10-03-2023  23:50    <DIR>          anaconda3\n",
      "20-02-2022  18:03             3,433 assignment.ipynb\n",
      "31-05-2023  22:58             7,422 assignment_1_dsa.ipynb\n",
      "01-03-2022  12:18                 0 athahar_modified_resume.pdf\n",
      "30-12-2022  11:15            12,827 Book1.xlsx\n",
      "17-03-2023  23:14    <DIR>          Boston-house-\n",
      "20-08-2022  16:00                72 brand detection.ipynb\n",
      "18-12-2022  15:59            57,568 chatgpt.ipynb\n",
      "03-04-2022  16:41             3,595 class inhertence.ipynb\n",
      "24-01-2021  20:23    <DIR>          Contacts\n",
      "02-12-2022  22:12    <DIR>          Creative Cloud Files\n",
      "29-05-2023  19:07             2,343 Data structures.ipynb\n",
      "31-05-2023  09:48    <DIR>          Desktop\n",
      "01-03-2023  14:34    <DIR>          Documents\n",
      "13-05-2023  11:32    <DIR>          Downloads\n",
      "24-01-2021  20:23    <DIR>          Favorites\n",
      "23-05-2022  00:12            85,827 fb.txt\n",
      "23-02-2022  22:15             1,371 File handling.ipynb\n",
      "20-02-2022  12:41            66,719 generator.ipynb\n",
      "30-04-2022  23:37            11,903 glass (1).data\n",
      "04-09-2022  12:14           101,883 graph 2.ipynb\n",
      "04-09-2022  10:22           220,469 graph.ipynb\n",
      "29-01-2022  23:01             6,052 if, elif, else, while.ipynb\n",
      "26-01-2023  23:27         1,392,177 ifstatemeby .ipynb\n",
      "26-05-2022  19:21             8,192 iliyaz.db\n",
      "26-05-2022  19:23             4,616 iliyaz.db-journal\n",
      "24-09-2022  15:09               588 image scrapper.ipynb\n",
      "24-01-2021  20:23    <DIR>          Links\n",
      "10-03-2022  15:29            23,675 logging.ipynb\n",
      "01-12-2022  11:21         3,904,176 logos.json\n",
      "04-01-2023  19:21            46,619 machine learning linear regression.ipynb\n",
      "24-05-2022  16:23             9,701 Mangodb.ipynb\n",
      "30-12-2022  13:21            23,431 md.ipynb\n",
      "30-12-2022  11:13            30,792 MD.xlsx\n",
      "29-12-2022  11:49            12,659 mdedit.xlsx\n",
      "02-01-2023  19:13            53,591 milannight.xlsx\n",
      "24-01-2023  22:57            17,107 MN.ipynb\n",
      "11-01-2023  23:08            12,887 mon.xlsx\n",
      "24-01-2021  20:23    <DIR>          Music\n",
      "23-04-2022  16:34             4,245 mysql.ipynb\n",
      "26-03-2022  10:53    <DIR>          OneDrive\n",
      "26-03-2022  15:58             3,743 oops.ipynb\n",
      "03-06-2022  23:35            81,552 pandas link data\n",
      "27-06-2022  11:09            91,723 pandas.ipynb\n",
      "24-01-2021  22:16    <DIR>          Pictures\n",
      "20-02-2022  12:22             4,247 Pictures.txt\n",
      "03-06-2022  23:50            34,237 ppandas.ipynb\n",
      "26-01-2022  13:06            18,509 pratice basics.ipynb\n",
      "08-03-2023  23:06           233,383 project krish naik.ipynb\n",
      "09-03-2023  22:52    <DIR>          project1\n",
      "22-03-2023  23:38    <DIR>          PycharmProjects\n",
      "08-03-2023  22:46               685 regmodel.pk1\n",
      "27-12-2022  18:33            29,613 sat.ipynb\n",
      "24-01-2021  20:23    <DIR>          Saved Games\n",
      "04-09-2022  11:39    <DIR>          seaborn-data\n",
      "24-01-2021  20:25    <DIR>          Searches\n",
      "26-05-2022  19:24             9,297 SQL lite.ipynb\n",
      "14-01-2023  11:12            25,620 svm.ipynb\n",
      "10-03-2022  13:44             1,444 test.log\n",
      "10-03-2022  13:45                 0 test2.log\n",
      "31-10-2022  10:02    <DIR>          Tracing\n",
      "26-01-2022  19:00            12,202 tuple.ipynb\n",
      "23-01-2022  13:59               588 Untitled.ipynb\n",
      "14-12-2022  23:35                 0 untitled.txt\n",
      "23-01-2022  16:09               922 Untitled1.ipynb\n",
      "24-12-2022  11:47                 0 untitled1.txt\n",
      "24-12-2022  12:07            16,711 Untitled10.ipynb\n",
      "27-12-2022  18:12           734,713 Untitled11.ipynb\n",
      "02-01-2023  19:13            31,622 Untitled12.ipynb\n",
      "11-01-2023  23:09           952,035 Untitled13.ipynb\n",
      "14-01-2023  12:28            44,364 Untitled14.ipynb\n",
      "24-01-2023  23:38         7,176,594 Untitled15.ipynb\n",
      "22-03-2023  11:22         4,244,429 Untitled16.ipynb\n",
      "22-03-2023  10:21         1,389,765 Untitled17.ipynb\n",
      "05-03-2023  11:27            52,325 Untitled18.ipynb\n",
      "04-03-2023  23:05               588 Untitled19.ipynb\n",
      "25-03-2022  14:48             1,635 Untitled2.ipynb\n",
      "01-03-2022  12:20             8,521 Untitled3.ipynb\n",
      "05-03-2022  22:56             1,618 Untitled4.ipynb\n",
      "24-05-2022  17:14            99,164 Untitled5.ipynb\n",
      "01-05-2022  00:24            19,382 Untitled6.ipynb\n",
      "27-06-2022  11:32             1,191 Untitled7.ipynb\n",
      "25-09-2022  10:53                72 Untitled8.ipynb\n",
      "25-09-2022  15:09             5,132 Untitled9.ipynb\n",
      "01-02-2021  22:07    <DIR>          Videos\n",
      "30-01-2022  15:52             8,697 while, break, continue and other things.ipynb\n",
      "              73 File(s)     21,527,894 bytes\n",
      "              32 Dir(s)  75,015,102,464 bytes free\n"
     ]
    }
   ],
   "source": [
    "\n"
   ]
  },
  {
   "cell_type": "code",
   "execution_count": null,
   "id": "f6573bde",
   "metadata": {},
   "outputs": [],
   "source": []
  }
 ],
 "metadata": {
  "kernelspec": {
   "display_name": "Python 3 (ipykernel)",
   "language": "python",
   "name": "python3"
  },
  "language_info": {
   "codemirror_mode": {
    "name": "ipython",
    "version": 3
   },
   "file_extension": ".py",
   "mimetype": "text/x-python",
   "name": "python",
   "nbconvert_exporter": "python",
   "pygments_lexer": "ipython3",
   "version": "3.9.7"
  }
 },
 "nbformat": 4,
 "nbformat_minor": 5
}
